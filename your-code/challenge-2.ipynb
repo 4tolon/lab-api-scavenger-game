{
 "cells": [
  {
   "cell_type": "markdown",
   "id": "threaded-asbestos",
   "metadata": {},
   "source": [
    "# Challenge 2: Count Commits\n",
    "\n",
    "Count how many commits were made in the past week.\n",
    "\n",
    "Obtain all the commits made in the past week via API, which is a JSON array that contains multiple commit objects.\n",
    "\n",
    "Count how many commit objects are contained in the array."
   ]
  },
  {
   "cell_type": "markdown",
   "id": "norwegian-praise",
   "metadata": {},
   "source": [
    "⚠️ **Remember to limit your output before submission**."
   ]
  },
  {
   "cell_type": "code",
   "execution_count": 1,
   "id": "developing-printing",
   "metadata": {},
   "outputs": [],
   "source": [
    "#Your code\n"
   ]
  },
  {
   "cell_type": "code",
   "execution_count": 2,
   "id": "f0a13611",
   "metadata": {},
   "outputs": [],
   "source": [
    "import json\n",
    "import requests\n",
    "import pandas as pd"
   ]
  },
  {
   "cell_type": "code",
   "execution_count": 3,
   "id": "e0c604f6",
   "metadata": {},
   "outputs": [],
   "source": [
    "import os\n",
    "from dotenv import load_dotenv"
   ]
  },
  {
   "cell_type": "code",
   "execution_count": 4,
   "id": "68da02cc",
   "metadata": {},
   "outputs": [
    {
     "data": {
      "text/plain": [
       "True"
      ]
     },
     "execution_count": 4,
     "metadata": {},
     "output_type": "execute_result"
    }
   ],
   "source": [
    "load_dotenv()"
   ]
  },
  {
   "cell_type": "code",
   "execution_count": 5,
   "id": "90f89504",
   "metadata": {},
   "outputs": [],
   "source": [
    "github = os.getenv(\"token\")"
   ]
  },
  {
   "cell_type": "code",
   "execution_count": 6,
   "id": "e7a1bfe3",
   "metadata": {},
   "outputs": [],
   "source": [
    "url = \"https://api.github.com/repos/Ironhack-Data-Madrid-Octubre-2021/apuntes_clase/commits\""
   ]
  },
  {
   "cell_type": "code",
   "execution_count": 7,
   "id": "de71c24c",
   "metadata": {},
   "outputs": [],
   "source": [
    "parameters = {\"Authorization\": f\"token {github}\", 'since':'2021-10-28T12:56:31Z'}"
   ]
  },
  {
   "cell_type": "code",
   "execution_count": 8,
   "id": "362a4886",
   "metadata": {},
   "outputs": [],
   "source": [
    "commits= requests.get(url, headers=parameters).json()"
   ]
  },
  {
   "cell_type": "code",
   "execution_count": 9,
   "id": "d85df0fe",
   "metadata": {},
   "outputs": [],
   "source": [
    "commit = [commit[\"commit\"][\"author\"]['date'] for commit in commits]"
   ]
  },
  {
   "cell_type": "code",
   "execution_count": 10,
   "id": "12db68b8",
   "metadata": {},
   "outputs": [
    {
     "data": {
      "text/plain": [
       "['2021-11-04T16:51:54Z',\n",
       " '2021-11-04T12:56:31Z',\n",
       " '2021-11-04T12:46:24Z',\n",
       " '2021-11-04T11:16:38Z',\n",
       " '2021-11-04T09:52:55Z',\n",
       " '2021-11-04T09:00:02Z',\n",
       " '2021-11-03T16:08:24Z',\n",
       " '2021-11-03T12:36:10Z',\n",
       " '2021-11-03T12:35:33Z',\n",
       " '2021-11-03T12:34:51Z',\n",
       " '2021-11-03T11:44:04Z',\n",
       " '2021-11-03T11:42:13Z',\n",
       " '2021-11-02T20:19:00Z',\n",
       " '2021-11-02T14:40:56Z',\n",
       " '2021-11-02T13:31:07Z',\n",
       " '2021-11-02T07:59:54Z',\n",
       " '2021-11-02T07:59:38Z',\n",
       " '2021-10-30T10:44:33Z',\n",
       " '2021-10-30T10:41:30Z',\n",
       " '2021-10-29T11:10:16Z',\n",
       " '2021-10-29T11:09:34Z',\n",
       " '2021-10-29T08:13:21Z',\n",
       " '2021-10-29T08:12:31Z',\n",
       " '2021-10-29T08:11:58Z',\n",
       " '2021-10-29T08:10:13Z',\n",
       " '2021-10-28T15:50:59Z',\n",
       " '2021-10-28T12:00:35Z',\n",
       " '2021-10-28T12:00:14Z',\n",
       " '2021-10-28T11:51:42Z',\n",
       " '2021-10-28T11:50:36Z']"
      ]
     },
     "execution_count": 10,
     "metadata": {},
     "output_type": "execute_result"
    }
   ],
   "source": [
    "commit"
   ]
  },
  {
   "cell_type": "code",
   "execution_count": 11,
   "id": "ongoing-taylor",
   "metadata": {},
   "outputs": [
    {
     "data": {
      "text/plain": [
       "30"
      ]
     },
     "execution_count": 11,
     "metadata": {},
     "output_type": "execute_result"
    }
   ],
   "source": [
    "len(commit)"
   ]
  },
  {
   "cell_type": "code",
   "execution_count": null,
   "id": "368baad3",
   "metadata": {},
   "outputs": [],
   "source": []
  }
 ],
 "metadata": {
  "kernelspec": {
   "display_name": "Python 3 (ipykernel)",
   "language": "python",
   "name": "python3"
  },
  "language_info": {
   "codemirror_mode": {
    "name": "ipython",
    "version": 3
   },
   "file_extension": ".py",
   "mimetype": "text/x-python",
   "name": "python",
   "nbconvert_exporter": "python",
   "pygments_lexer": "ipython3",
   "version": "3.9.7"
  },
  "toc": {
   "base_numbering": 1,
   "nav_menu": {},
   "number_sections": true,
   "sideBar": true,
   "skip_h1_title": true,
   "title_cell": "Table of Contents",
   "title_sidebar": "Contents",
   "toc_cell": false,
   "toc_position": {
    "height": "calc(100% - 180px)",
    "left": "10px",
    "top": "150px",
    "width": "288px"
   },
   "toc_section_display": true,
   "toc_window_display": true
  }
 },
 "nbformat": 4,
 "nbformat_minor": 5
}
