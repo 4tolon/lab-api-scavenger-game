{
 "cells": [
  {
   "cell_type": "markdown",
   "id": "defensive-clock",
   "metadata": {},
   "source": [
    "# Challenge 3: Hidden Cold Joke\n",
    "\n",
    "Using Python, call Github API to find out the cold joke contained in the 24 secret files in the following repo:\n",
    "\n",
    "https://github.com/ironhack-datalabs/scavenger\n",
    "\n",
    "The filenames of the secret files contain .scavengerhunt and they are scattered in different directories of this repo. The secret files are named from .0001.scavengerhunt to .0024.scavengerhunt. They are scattered randomly throughout this repo. You need to search for these files by calling the Github API, not searching the local files on your computer.\n",
    "\n",
    "\n",
    "After you find out the secrete files:\n",
    "\n",
    "Sort the filenames ascendingly.\n",
    "\n",
    "Read the content of each secret files into an array of strings.\n",
    "\n",
    "Concatenate the strings in the array separating each two with a whitespace.\n",
    "\n",
    "Print out the joke."
   ]
  },
  {
   "cell_type": "markdown",
   "id": "universal-length",
   "metadata": {},
   "source": [
    "⚠️ **Remember to limit your output before submission**."
   ]
  },
  {
   "cell_type": "code",
   "execution_count": 1,
   "id": "toxic-trading",
   "metadata": {},
   "outputs": [],
   "source": [
    "# Your code\n",
    "\n",
    "import json\n",
    "import requests\n",
    "import pandas as pd\n",
    "import os\n",
    "from dotenv import load_dotenv"
   ]
  },
  {
   "cell_type": "code",
   "execution_count": 2,
   "id": "557d9b19",
   "metadata": {},
   "outputs": [
    {
     "data": {
      "text/plain": [
       "True"
      ]
     },
     "execution_count": 2,
     "metadata": {},
     "output_type": "execute_result"
    }
   ],
   "source": [
    "load_dotenv()"
   ]
  },
  {
   "cell_type": "code",
   "execution_count": 3,
   "id": "2fc681ef",
   "metadata": {},
   "outputs": [],
   "source": [
    "github = os.getenv(\"token\")"
   ]
  },
  {
   "cell_type": "code",
   "execution_count": 4,
   "id": "9153006c",
   "metadata": {},
   "outputs": [],
   "source": [
    "url = \"https://api.github.com/repos/ironhack-datalabs/scavenger/contents\""
   ]
  },
  {
   "cell_type": "code",
   "execution_count": 5,
   "id": "07f3d95c",
   "metadata": {},
   "outputs": [],
   "source": [
    "parameters = {\"Authorization\": f\"token {github}\"}"
   ]
  },
  {
   "cell_type": "code",
   "execution_count": 6,
   "id": "23248b9c",
   "metadata": {},
   "outputs": [],
   "source": [
    "page = requests.get(url, headers=parameters).json()"
   ]
  },
  {
   "cell_type": "code",
   "execution_count": 7,
   "id": "99f99d5e",
   "metadata": {},
   "outputs": [
    {
     "data": {
      "text/plain": [
       "{'name': '.gitignore',\n",
       " 'path': '.gitignore',\n",
       " 'sha': 'e43b0f988953ae3a84b00331d0ccf5f7d51cb3cf',\n",
       " 'size': 10,\n",
       " 'url': 'https://api.github.com/repos/ironhack-datalabs/scavenger/contents/.gitignore?ref=master',\n",
       " 'html_url': 'https://github.com/ironhack-datalabs/scavenger/blob/master/.gitignore',\n",
       " 'git_url': 'https://api.github.com/repos/ironhack-datalabs/scavenger/git/blobs/e43b0f988953ae3a84b00331d0ccf5f7d51cb3cf',\n",
       " 'download_url': 'https://raw.githubusercontent.com/ironhack-datalabs/scavenger/master/.gitignore',\n",
       " 'type': 'file',\n",
       " '_links': {'self': 'https://api.github.com/repos/ironhack-datalabs/scavenger/contents/.gitignore?ref=master',\n",
       "  'git': 'https://api.github.com/repos/ironhack-datalabs/scavenger/git/blobs/e43b0f988953ae3a84b00331d0ccf5f7d51cb3cf',\n",
       "  'html': 'https://github.com/ironhack-datalabs/scavenger/blob/master/.gitignore'}}"
      ]
     },
     "execution_count": 7,
     "metadata": {},
     "output_type": "execute_result"
    }
   ],
   "source": [
    "page[0]"
   ]
  },
  {
   "cell_type": "code",
   "execution_count": 8,
   "id": "55759165",
   "metadata": {},
   "outputs": [
    {
     "data": {
      "text/plain": [
       "'https://api.github.com/repos/ironhack-datalabs/scavenger/contents/.gitignore?ref=master'"
      ]
     },
     "execution_count": 8,
     "metadata": {},
     "output_type": "execute_result"
    }
   ],
   "source": [
    "page[0][\"url\"]\n"
   ]
  },
  {
   "cell_type": "code",
   "execution_count": 9,
   "id": "e9b2cb6d",
   "metadata": {},
   "outputs": [],
   "source": [
    "carpetas = [pag[\"url\"] for pag in page]\n",
    "carpetas = carpetas[1:]"
   ]
  },
  {
   "cell_type": "code",
   "execution_count": 40,
   "id": "369bbf0a",
   "metadata": {},
   "outputs": [],
   "source": [
    "def requestGithub(enlace):\n",
    "    github = os.getenv(\"token\")\n",
    "    if not github:\n",
    "        raise ValueError(\"OJOOO necesitas un token\")\n",
    "    print(f\"Estoy haciendo request a {enlace}\")\n",
    "    parametros = {\"Authorization\": f\"token {github}\", 'Accept': 'application/vnd.github.VERSION.raw'}\n",
    "    res = requests.get(enlace, headers=parametros).json()\n",
    "    return res"
   ]
  },
  {
   "cell_type": "code",
   "execution_count": 18,
   "id": "79e0d9cd",
   "metadata": {},
   "outputs": [
    {
     "name": "stdout",
     "output_type": "stream",
     "text": [
      "Estoy haciendo request a https://api.github.com/repos/ironhack-datalabs/scavenger/contents/15024?ref=master\n",
      "Estoy haciendo request a https://api.github.com/repos/ironhack-datalabs/scavenger/contents/15534?ref=master\n",
      "Estoy haciendo request a https://api.github.com/repos/ironhack-datalabs/scavenger/contents/17020?ref=master\n",
      "Estoy haciendo request a https://api.github.com/repos/ironhack-datalabs/scavenger/contents/30351?ref=master\n",
      "Estoy haciendo request a https://api.github.com/repos/ironhack-datalabs/scavenger/contents/40303?ref=master\n",
      "Estoy haciendo request a https://api.github.com/repos/ironhack-datalabs/scavenger/contents/44639?ref=master\n",
      "Estoy haciendo request a https://api.github.com/repos/ironhack-datalabs/scavenger/contents/45525?ref=master\n",
      "Estoy haciendo request a https://api.github.com/repos/ironhack-datalabs/scavenger/contents/47222?ref=master\n",
      "Estoy haciendo request a https://api.github.com/repos/ironhack-datalabs/scavenger/contents/47830?ref=master\n",
      "Estoy haciendo request a https://api.github.com/repos/ironhack-datalabs/scavenger/contents/49418?ref=master\n",
      "Estoy haciendo request a https://api.github.com/repos/ironhack-datalabs/scavenger/contents/50896?ref=master\n",
      "Estoy haciendo request a https://api.github.com/repos/ironhack-datalabs/scavenger/contents/55417?ref=master\n",
      "Estoy haciendo request a https://api.github.com/repos/ironhack-datalabs/scavenger/contents/55685?ref=master\n",
      "Estoy haciendo request a https://api.github.com/repos/ironhack-datalabs/scavenger/contents/60224?ref=master\n",
      "Estoy haciendo request a https://api.github.com/repos/ironhack-datalabs/scavenger/contents/64880?ref=master\n",
      "Estoy haciendo request a https://api.github.com/repos/ironhack-datalabs/scavenger/contents/66032?ref=master\n",
      "Estoy haciendo request a https://api.github.com/repos/ironhack-datalabs/scavenger/contents/68848?ref=master\n",
      "Estoy haciendo request a https://api.github.com/repos/ironhack-datalabs/scavenger/contents/70751?ref=master\n",
      "Estoy haciendo request a https://api.github.com/repos/ironhack-datalabs/scavenger/contents/70985?ref=master\n",
      "Estoy haciendo request a https://api.github.com/repos/ironhack-datalabs/scavenger/contents/88596?ref=master\n",
      "Estoy haciendo request a https://api.github.com/repos/ironhack-datalabs/scavenger/contents/89046?ref=master\n",
      "Estoy haciendo request a https://api.github.com/repos/ironhack-datalabs/scavenger/contents/89338?ref=master\n",
      "Estoy haciendo request a https://api.github.com/repos/ironhack-datalabs/scavenger/contents/91701?ref=master\n",
      "Estoy haciendo request a https://api.github.com/repos/ironhack-datalabs/scavenger/contents/97881?ref=master\n",
      "Estoy haciendo request a https://api.github.com/repos/ironhack-datalabs/scavenger/contents/98750?ref=master\n"
     ]
    }
   ],
   "source": [
    "subcar = [requestGithub(p) for p in carpetas]"
   ]
  },
  {
   "cell_type": "code",
   "execution_count": 20,
   "id": "05ec43bf",
   "metadata": {},
   "outputs": [
    {
     "name": "stdout",
     "output_type": "stream",
     "text": [
      "https://api.github.com/repos/ironhack-datalabs/scavenger/contents/15024/.0006.scavengerhunt?ref=master\n"
     ]
    }
   ],
   "source": [
    "print(subcar[0][0]['url'])\n"
   ]
  },
  {
   "cell_type": "code",
   "execution_count": 23,
   "id": "c541f854",
   "metadata": {},
   "outputs": [],
   "source": [
    "#print(len('scavengerhunt?ref=master'))\n",
    "#for s in subcar:\n",
    "#    for i in s:\n",
    " #-=-       print(i['url'][:-24])\n",
    "     #  if i['url'][-24:] == 'scavengerhunt?ref=master':\n",
    "      #      print(i['url'])"
   ]
  },
  {
   "cell_type": "code",
   "execution_count": 22,
   "id": "793e0503",
   "metadata": {},
   "outputs": [
    {
     "data": {
      "text/plain": [
       "['https://api.github.com/repos/ironhack-datalabs/scavenger/contents/15024/.0006.scavengerhunt?ref=master',\n",
       " 'https://api.github.com/repos/ironhack-datalabs/scavenger/contents/15534/.0008.scavengerhunt?ref=master',\n",
       " 'https://api.github.com/repos/ironhack-datalabs/scavenger/contents/15534/.0012.scavengerhunt?ref=master',\n",
       " 'https://api.github.com/repos/ironhack-datalabs/scavenger/contents/17020/.0007.scavengerhunt?ref=master',\n",
       " 'https://api.github.com/repos/ironhack-datalabs/scavenger/contents/30351/.0021.scavengerhunt?ref=master',\n",
       " 'https://api.github.com/repos/ironhack-datalabs/scavenger/contents/40303/.0022.scavengerhunt?ref=master',\n",
       " 'https://api.github.com/repos/ironhack-datalabs/scavenger/contents/44639/.0005.scavengerhunt?ref=master',\n",
       " 'https://api.github.com/repos/ironhack-datalabs/scavenger/contents/45525/.0018.scavengerhunt?ref=master',\n",
       " 'https://api.github.com/repos/ironhack-datalabs/scavenger/contents/47222/.0016.scavengerhunt?ref=master',\n",
       " 'https://api.github.com/repos/ironhack-datalabs/scavenger/contents/47222/.0024.scavengerhunt?ref=master',\n",
       " 'https://api.github.com/repos/ironhack-datalabs/scavenger/contents/47830/.0010.scavengerhunt?ref=master',\n",
       " 'https://api.github.com/repos/ironhack-datalabs/scavenger/contents/49418/.0014.scavengerhunt?ref=master',\n",
       " 'https://api.github.com/repos/ironhack-datalabs/scavenger/contents/50896/.0011.scavengerhunt?ref=master',\n",
       " 'https://api.github.com/repos/ironhack-datalabs/scavenger/contents/55417/.0023.scavengerhunt?ref=master',\n",
       " 'https://api.github.com/repos/ironhack-datalabs/scavenger/contents/55685/.0020.scavengerhunt?ref=master',\n",
       " 'https://api.github.com/repos/ironhack-datalabs/scavenger/contents/60224/.0003.scavengerhunt?ref=master',\n",
       " 'https://api.github.com/repos/ironhack-datalabs/scavenger/contents/68848/.0004.scavengerhunt?ref=master',\n",
       " 'https://api.github.com/repos/ironhack-datalabs/scavenger/contents/70751/.0019.scavengerhunt?ref=master',\n",
       " 'https://api.github.com/repos/ironhack-datalabs/scavenger/contents/70985/.0017.scavengerhunt?ref=master',\n",
       " 'https://api.github.com/repos/ironhack-datalabs/scavenger/contents/88596/.0002.scavengerhunt?ref=master',\n",
       " 'https://api.github.com/repos/ironhack-datalabs/scavenger/contents/89338/.0013.scavengerhunt?ref=master',\n",
       " 'https://api.github.com/repos/ironhack-datalabs/scavenger/contents/91701/.0015.scavengerhunt?ref=master',\n",
       " 'https://api.github.com/repos/ironhack-datalabs/scavenger/contents/97881/.0009.scavengerhunt?ref=master',\n",
       " 'https://api.github.com/repos/ironhack-datalabs/scavenger/contents/98750/.0001.scavengerhunt?ref=master']"
      ]
     },
     "execution_count": 22,
     "metadata": {},
     "output_type": "execute_result"
    }
   ],
   "source": [
    "archidot = [i['url'] for s in subcar for i in s if i['url'][-24:] == 'scavengerhunt?ref=master' ]\n",
    "archidot"
   ]
  },
  {
   "cell_type": "code",
   "execution_count": 24,
   "id": "ced02559",
   "metadata": {},
   "outputs": [
    {
     "data": {
      "text/plain": [
       "'06.scavengerhunt?ref=master'"
      ]
     },
     "execution_count": 24,
     "metadata": {},
     "output_type": "execute_result"
    }
   ],
   "source": [
    "archidot[0][-27:]"
   ]
  },
  {
   "cell_type": "markdown",
   "id": "e3c9b640",
   "metadata": {},
   "source": [
    "![apis_gif](https://img1.picmix.com/output/stamp/normal/9/3/8/6/1586839_80525.gif)"
   ]
  },
  {
   "cell_type": "code",
   "execution_count": 25,
   "id": "b0622abf",
   "metadata": {},
   "outputs": [
    {
     "data": {
      "text/plain": [
       "['https://api.github.com/repos/ironhack-datalabs/scavenger/contents/98750/.0001.scavengerhunt?ref=master',\n",
       " 'https://api.github.com/repos/ironhack-datalabs/scavenger/contents/88596/.0002.scavengerhunt?ref=master',\n",
       " 'https://api.github.com/repos/ironhack-datalabs/scavenger/contents/60224/.0003.scavengerhunt?ref=master',\n",
       " 'https://api.github.com/repos/ironhack-datalabs/scavenger/contents/68848/.0004.scavengerhunt?ref=master',\n",
       " 'https://api.github.com/repos/ironhack-datalabs/scavenger/contents/44639/.0005.scavengerhunt?ref=master',\n",
       " 'https://api.github.com/repos/ironhack-datalabs/scavenger/contents/15024/.0006.scavengerhunt?ref=master',\n",
       " 'https://api.github.com/repos/ironhack-datalabs/scavenger/contents/17020/.0007.scavengerhunt?ref=master',\n",
       " 'https://api.github.com/repos/ironhack-datalabs/scavenger/contents/15534/.0008.scavengerhunt?ref=master',\n",
       " 'https://api.github.com/repos/ironhack-datalabs/scavenger/contents/97881/.0009.scavengerhunt?ref=master',\n",
       " 'https://api.github.com/repos/ironhack-datalabs/scavenger/contents/47830/.0010.scavengerhunt?ref=master',\n",
       " 'https://api.github.com/repos/ironhack-datalabs/scavenger/contents/50896/.0011.scavengerhunt?ref=master',\n",
       " 'https://api.github.com/repos/ironhack-datalabs/scavenger/contents/15534/.0012.scavengerhunt?ref=master',\n",
       " 'https://api.github.com/repos/ironhack-datalabs/scavenger/contents/89338/.0013.scavengerhunt?ref=master',\n",
       " 'https://api.github.com/repos/ironhack-datalabs/scavenger/contents/49418/.0014.scavengerhunt?ref=master',\n",
       " 'https://api.github.com/repos/ironhack-datalabs/scavenger/contents/91701/.0015.scavengerhunt?ref=master',\n",
       " 'https://api.github.com/repos/ironhack-datalabs/scavenger/contents/47222/.0016.scavengerhunt?ref=master',\n",
       " 'https://api.github.com/repos/ironhack-datalabs/scavenger/contents/70985/.0017.scavengerhunt?ref=master',\n",
       " 'https://api.github.com/repos/ironhack-datalabs/scavenger/contents/45525/.0018.scavengerhunt?ref=master',\n",
       " 'https://api.github.com/repos/ironhack-datalabs/scavenger/contents/70751/.0019.scavengerhunt?ref=master',\n",
       " 'https://api.github.com/repos/ironhack-datalabs/scavenger/contents/55685/.0020.scavengerhunt?ref=master',\n",
       " 'https://api.github.com/repos/ironhack-datalabs/scavenger/contents/30351/.0021.scavengerhunt?ref=master',\n",
       " 'https://api.github.com/repos/ironhack-datalabs/scavenger/contents/40303/.0022.scavengerhunt?ref=master',\n",
       " 'https://api.github.com/repos/ironhack-datalabs/scavenger/contents/55417/.0023.scavengerhunt?ref=master',\n",
       " 'https://api.github.com/repos/ironhack-datalabs/scavenger/contents/47222/.0024.scavengerhunt?ref=master']"
      ]
     },
     "execution_count": 25,
     "metadata": {},
     "output_type": "execute_result"
    }
   ],
   "source": [
    "archisort = sorted(archidot, key = lambda a : a[-27:])\n",
    "archisort"
   ]
  },
  {
   "cell_type": "code",
   "execution_count": 41,
   "id": "4ce029a5",
   "metadata": {},
   "outputs": [
    {
     "name": "stdout",
     "output_type": "stream",
     "text": [
      "Estoy haciendo request a https://api.github.com/repos/ironhack-datalabs/scavenger/contents/98750/.0001.scavengerhunt?ref=master\n"
     ]
    },
    {
     "ename": "JSONDecodeError",
     "evalue": "Expecting value: line 1 column 1 (char 0)",
     "output_type": "error",
     "traceback": [
      "\u001b[0;31m---------------------------------------------------------------------------\u001b[0m",
      "\u001b[0;31mJSONDecodeError\u001b[0m                           Traceback (most recent call last)",
      "\u001b[0;32m/tmp/ipykernel_6549/1268418903.py\u001b[0m in \u001b[0;36m<module>\u001b[0;34m\u001b[0m\n\u001b[0;32m----> 1\u001b[0;31m \u001b[0marchi\u001b[0m \u001b[0;34m=\u001b[0m \u001b[0;34m[\u001b[0m\u001b[0mrequestGithub\u001b[0m\u001b[0;34m(\u001b[0m\u001b[0mp\u001b[0m\u001b[0;34m)\u001b[0m \u001b[0;32mfor\u001b[0m \u001b[0mp\u001b[0m \u001b[0;32min\u001b[0m \u001b[0marchisort\u001b[0m\u001b[0;34m]\u001b[0m\u001b[0;34m\u001b[0m\u001b[0;34m\u001b[0m\u001b[0m\n\u001b[0m",
      "\u001b[0;32m/tmp/ipykernel_6549/1268418903.py\u001b[0m in \u001b[0;36m<listcomp>\u001b[0;34m(.0)\u001b[0m\n\u001b[0;32m----> 1\u001b[0;31m \u001b[0marchi\u001b[0m \u001b[0;34m=\u001b[0m \u001b[0;34m[\u001b[0m\u001b[0mrequestGithub\u001b[0m\u001b[0;34m(\u001b[0m\u001b[0mp\u001b[0m\u001b[0;34m)\u001b[0m \u001b[0;32mfor\u001b[0m \u001b[0mp\u001b[0m \u001b[0;32min\u001b[0m \u001b[0marchisort\u001b[0m\u001b[0;34m]\u001b[0m\u001b[0;34m\u001b[0m\u001b[0;34m\u001b[0m\u001b[0m\n\u001b[0m",
      "\u001b[0;32m/tmp/ipykernel_6549/3665065605.py\u001b[0m in \u001b[0;36mrequestGithub\u001b[0;34m(enlace)\u001b[0m\n\u001b[1;32m      5\u001b[0m     \u001b[0mprint\u001b[0m\u001b[0;34m(\u001b[0m\u001b[0;34mf\"Estoy haciendo request a {enlace}\"\u001b[0m\u001b[0;34m)\u001b[0m\u001b[0;34m\u001b[0m\u001b[0;34m\u001b[0m\u001b[0m\n\u001b[1;32m      6\u001b[0m     \u001b[0mparametros\u001b[0m \u001b[0;34m=\u001b[0m \u001b[0;34m{\u001b[0m\u001b[0;34m\"Authorization\"\u001b[0m\u001b[0;34m:\u001b[0m \u001b[0;34mf\"token {github}\"\u001b[0m\u001b[0;34m,\u001b[0m \u001b[0;34m'Accept'\u001b[0m\u001b[0;34m:\u001b[0m \u001b[0;34m'application/vnd.github.VERSION.raw'\u001b[0m\u001b[0;34m}\u001b[0m\u001b[0;34m\u001b[0m\u001b[0;34m\u001b[0m\u001b[0m\n\u001b[0;32m----> 7\u001b[0;31m     \u001b[0mres\u001b[0m \u001b[0;34m=\u001b[0m \u001b[0mrequests\u001b[0m\u001b[0;34m.\u001b[0m\u001b[0mget\u001b[0m\u001b[0;34m(\u001b[0m\u001b[0menlace\u001b[0m\u001b[0;34m,\u001b[0m \u001b[0mheaders\u001b[0m\u001b[0;34m=\u001b[0m\u001b[0mparametros\u001b[0m\u001b[0;34m)\u001b[0m\u001b[0;34m.\u001b[0m\u001b[0mjson\u001b[0m\u001b[0;34m(\u001b[0m\u001b[0;34m)\u001b[0m\u001b[0;34m\u001b[0m\u001b[0;34m\u001b[0m\u001b[0m\n\u001b[0m\u001b[1;32m      8\u001b[0m     \u001b[0;32mreturn\u001b[0m \u001b[0mres\u001b[0m\u001b[0;34m\u001b[0m\u001b[0;34m\u001b[0m\u001b[0m\n",
      "\u001b[0;32m~/anaconda3/envs/basic_da/lib/python3.9/site-packages/requests/models.py\u001b[0m in \u001b[0;36mjson\u001b[0;34m(self, **kwargs)\u001b[0m\n\u001b[1;32m    908\u001b[0m                     \u001b[0;31m# used.\u001b[0m\u001b[0;34m\u001b[0m\u001b[0;34m\u001b[0m\u001b[0m\n\u001b[1;32m    909\u001b[0m                     \u001b[0;32mpass\u001b[0m\u001b[0;34m\u001b[0m\u001b[0;34m\u001b[0m\u001b[0m\n\u001b[0;32m--> 910\u001b[0;31m         \u001b[0;32mreturn\u001b[0m \u001b[0mcomplexjson\u001b[0m\u001b[0;34m.\u001b[0m\u001b[0mloads\u001b[0m\u001b[0;34m(\u001b[0m\u001b[0mself\u001b[0m\u001b[0;34m.\u001b[0m\u001b[0mtext\u001b[0m\u001b[0;34m,\u001b[0m \u001b[0;34m**\u001b[0m\u001b[0mkwargs\u001b[0m\u001b[0;34m)\u001b[0m\u001b[0;34m\u001b[0m\u001b[0;34m\u001b[0m\u001b[0m\n\u001b[0m\u001b[1;32m    911\u001b[0m \u001b[0;34m\u001b[0m\u001b[0m\n\u001b[1;32m    912\u001b[0m     \u001b[0;34m@\u001b[0m\u001b[0mproperty\u001b[0m\u001b[0;34m\u001b[0m\u001b[0;34m\u001b[0m\u001b[0m\n",
      "\u001b[0;32m~/anaconda3/envs/basic_da/lib/python3.9/json/__init__.py\u001b[0m in \u001b[0;36mloads\u001b[0;34m(s, cls, object_hook, parse_float, parse_int, parse_constant, object_pairs_hook, **kw)\u001b[0m\n\u001b[1;32m    344\u001b[0m             \u001b[0mparse_int\u001b[0m \u001b[0;32mis\u001b[0m \u001b[0;32mNone\u001b[0m \u001b[0;32mand\u001b[0m \u001b[0mparse_float\u001b[0m \u001b[0;32mis\u001b[0m \u001b[0;32mNone\u001b[0m \u001b[0;32mand\u001b[0m\u001b[0;34m\u001b[0m\u001b[0;34m\u001b[0m\u001b[0m\n\u001b[1;32m    345\u001b[0m             parse_constant is None and object_pairs_hook is None and not kw):\n\u001b[0;32m--> 346\u001b[0;31m         \u001b[0;32mreturn\u001b[0m \u001b[0m_default_decoder\u001b[0m\u001b[0;34m.\u001b[0m\u001b[0mdecode\u001b[0m\u001b[0;34m(\u001b[0m\u001b[0ms\u001b[0m\u001b[0;34m)\u001b[0m\u001b[0;34m\u001b[0m\u001b[0;34m\u001b[0m\u001b[0m\n\u001b[0m\u001b[1;32m    347\u001b[0m     \u001b[0;32mif\u001b[0m \u001b[0mcls\u001b[0m \u001b[0;32mis\u001b[0m \u001b[0;32mNone\u001b[0m\u001b[0;34m:\u001b[0m\u001b[0;34m\u001b[0m\u001b[0;34m\u001b[0m\u001b[0m\n\u001b[1;32m    348\u001b[0m         \u001b[0mcls\u001b[0m \u001b[0;34m=\u001b[0m \u001b[0mJSONDecoder\u001b[0m\u001b[0;34m\u001b[0m\u001b[0;34m\u001b[0m\u001b[0m\n",
      "\u001b[0;32m~/anaconda3/envs/basic_da/lib/python3.9/json/decoder.py\u001b[0m in \u001b[0;36mdecode\u001b[0;34m(self, s, _w)\u001b[0m\n\u001b[1;32m    335\u001b[0m \u001b[0;34m\u001b[0m\u001b[0m\n\u001b[1;32m    336\u001b[0m         \"\"\"\n\u001b[0;32m--> 337\u001b[0;31m         \u001b[0mobj\u001b[0m\u001b[0;34m,\u001b[0m \u001b[0mend\u001b[0m \u001b[0;34m=\u001b[0m \u001b[0mself\u001b[0m\u001b[0;34m.\u001b[0m\u001b[0mraw_decode\u001b[0m\u001b[0;34m(\u001b[0m\u001b[0ms\u001b[0m\u001b[0;34m,\u001b[0m \u001b[0midx\u001b[0m\u001b[0;34m=\u001b[0m\u001b[0m_w\u001b[0m\u001b[0;34m(\u001b[0m\u001b[0ms\u001b[0m\u001b[0;34m,\u001b[0m \u001b[0;36m0\u001b[0m\u001b[0;34m)\u001b[0m\u001b[0;34m.\u001b[0m\u001b[0mend\u001b[0m\u001b[0;34m(\u001b[0m\u001b[0;34m)\u001b[0m\u001b[0;34m)\u001b[0m\u001b[0;34m\u001b[0m\u001b[0;34m\u001b[0m\u001b[0m\n\u001b[0m\u001b[1;32m    338\u001b[0m         \u001b[0mend\u001b[0m \u001b[0;34m=\u001b[0m \u001b[0m_w\u001b[0m\u001b[0;34m(\u001b[0m\u001b[0ms\u001b[0m\u001b[0;34m,\u001b[0m \u001b[0mend\u001b[0m\u001b[0;34m)\u001b[0m\u001b[0;34m.\u001b[0m\u001b[0mend\u001b[0m\u001b[0;34m(\u001b[0m\u001b[0;34m)\u001b[0m\u001b[0;34m\u001b[0m\u001b[0;34m\u001b[0m\u001b[0m\n\u001b[1;32m    339\u001b[0m         \u001b[0;32mif\u001b[0m \u001b[0mend\u001b[0m \u001b[0;34m!=\u001b[0m \u001b[0mlen\u001b[0m\u001b[0;34m(\u001b[0m\u001b[0ms\u001b[0m\u001b[0;34m)\u001b[0m\u001b[0;34m:\u001b[0m\u001b[0;34m\u001b[0m\u001b[0;34m\u001b[0m\u001b[0m\n",
      "\u001b[0;32m~/anaconda3/envs/basic_da/lib/python3.9/json/decoder.py\u001b[0m in \u001b[0;36mraw_decode\u001b[0;34m(self, s, idx)\u001b[0m\n\u001b[1;32m    353\u001b[0m             \u001b[0mobj\u001b[0m\u001b[0;34m,\u001b[0m \u001b[0mend\u001b[0m \u001b[0;34m=\u001b[0m \u001b[0mself\u001b[0m\u001b[0;34m.\u001b[0m\u001b[0mscan_once\u001b[0m\u001b[0;34m(\u001b[0m\u001b[0ms\u001b[0m\u001b[0;34m,\u001b[0m \u001b[0midx\u001b[0m\u001b[0;34m)\u001b[0m\u001b[0;34m\u001b[0m\u001b[0;34m\u001b[0m\u001b[0m\n\u001b[1;32m    354\u001b[0m         \u001b[0;32mexcept\u001b[0m \u001b[0mStopIteration\u001b[0m \u001b[0;32mas\u001b[0m \u001b[0merr\u001b[0m\u001b[0;34m:\u001b[0m\u001b[0;34m\u001b[0m\u001b[0;34m\u001b[0m\u001b[0m\n\u001b[0;32m--> 355\u001b[0;31m             \u001b[0;32mraise\u001b[0m \u001b[0mJSONDecodeError\u001b[0m\u001b[0;34m(\u001b[0m\u001b[0;34m\"Expecting value\"\u001b[0m\u001b[0;34m,\u001b[0m \u001b[0ms\u001b[0m\u001b[0;34m,\u001b[0m \u001b[0merr\u001b[0m\u001b[0;34m.\u001b[0m\u001b[0mvalue\u001b[0m\u001b[0;34m)\u001b[0m \u001b[0;32mfrom\u001b[0m \u001b[0;32mNone\u001b[0m\u001b[0;34m\u001b[0m\u001b[0;34m\u001b[0m\u001b[0m\n\u001b[0m\u001b[1;32m    356\u001b[0m         \u001b[0;32mreturn\u001b[0m \u001b[0mobj\u001b[0m\u001b[0;34m,\u001b[0m \u001b[0mend\u001b[0m\u001b[0;34m\u001b[0m\u001b[0;34m\u001b[0m\u001b[0m\n",
      "\u001b[0;31mJSONDecodeError\u001b[0m: Expecting value: line 1 column 1 (char 0)"
     ]
    }
   ],
   "source": [
    "archi = [requestGithub(p) for p in archisort]\n"
   ]
  },
  {
   "cell_type": "code",
   "execution_count": null,
   "id": "d6a9f5a0",
   "metadata": {},
   "outputs": [],
   "source": []
  },
  {
   "cell_type": "code",
   "execution_count": 42,
   "id": "d664904a",
   "metadata": {},
   "outputs": [
    {
     "data": {
      "text/plain": [
       "<Response [200]>"
      ]
     },
     "execution_count": 42,
     "metadata": {},
     "output_type": "execute_result"
    }
   ],
   "source": [
    "archi[1]"
   ]
  },
  {
   "cell_type": "code",
   "execution_count": null,
   "id": "a86e4dec",
   "metadata": {},
   "outputs": [],
   "source": []
  },
  {
   "cell_type": "code",
   "execution_count": 43,
   "id": "5915477f",
   "metadata": {},
   "outputs": [
    {
     "ename": "TypeError",
     "evalue": "'Response' object is not subscriptable",
     "output_type": "error",
     "traceback": [
      "\u001b[0;31m---------------------------------------------------------------------------\u001b[0m",
      "\u001b[0;31mTypeError\u001b[0m                                 Traceback (most recent call last)",
      "\u001b[0;32m/tmp/ipykernel_6549/1488709834.py\u001b[0m in \u001b[0;36m<module>\u001b[0;34m\u001b[0m\n\u001b[0;32m----> 1\u001b[0;31m \u001b[0mcontenido\u001b[0m \u001b[0;34m=\u001b[0m \u001b[0;34m[\u001b[0m\u001b[0mpag\u001b[0m\u001b[0;34m[\u001b[0m\u001b[0;34m\"content\"\u001b[0m\u001b[0;34m]\u001b[0m \u001b[0;32mfor\u001b[0m \u001b[0mpag\u001b[0m \u001b[0;32min\u001b[0m \u001b[0marchi\u001b[0m\u001b[0;34m]\u001b[0m\u001b[0;34m\u001b[0m\u001b[0;34m\u001b[0m\u001b[0m\n\u001b[0m\u001b[1;32m      2\u001b[0m \u001b[0mcontenido\u001b[0m\u001b[0;34m\u001b[0m\u001b[0;34m\u001b[0m\u001b[0m\n",
      "\u001b[0;32m/tmp/ipykernel_6549/1488709834.py\u001b[0m in \u001b[0;36m<listcomp>\u001b[0;34m(.0)\u001b[0m\n\u001b[0;32m----> 1\u001b[0;31m \u001b[0mcontenido\u001b[0m \u001b[0;34m=\u001b[0m \u001b[0;34m[\u001b[0m\u001b[0mpag\u001b[0m\u001b[0;34m[\u001b[0m\u001b[0;34m\"content\"\u001b[0m\u001b[0;34m]\u001b[0m \u001b[0;32mfor\u001b[0m \u001b[0mpag\u001b[0m \u001b[0;32min\u001b[0m \u001b[0marchi\u001b[0m\u001b[0;34m]\u001b[0m\u001b[0;34m\u001b[0m\u001b[0;34m\u001b[0m\u001b[0m\n\u001b[0m\u001b[1;32m      2\u001b[0m \u001b[0mcontenido\u001b[0m\u001b[0;34m\u001b[0m\u001b[0;34m\u001b[0m\u001b[0m\n",
      "\u001b[0;31mTypeError\u001b[0m: 'Response' object is not subscriptable"
     ]
    }
   ],
   "source": [
    "contenido = [pag[\"content\"] for pag in archi]\n",
    "contenido"
   ]
  },
  {
   "cell_type": "markdown",
   "id": "a9949e20",
   "metadata": {},
   "source": [
    "![apis_gif](https://thumbs.gfycat.com/GlaringDamagedKittiwake-max-1mb.gif)"
   ]
  },
  {
   "cell_type": "code",
   "execution_count": 44,
   "id": "9f3346d8",
   "metadata": {},
   "outputs": [],
   "source": [
    "a = 'bmVlZAo=\\n'"
   ]
  },
  {
   "cell_type": "code",
   "execution_count": 45,
   "id": "4b7e3616",
   "metadata": {},
   "outputs": [
    {
     "data": {
      "text/plain": [
       "'bmVlZAo='"
      ]
     },
     "execution_count": 45,
     "metadata": {},
     "output_type": "execute_result"
    }
   ],
   "source": [
    "a[:-1]"
   ]
  },
  {
   "cell_type": "code",
   "execution_count": 46,
   "id": "2125c718",
   "metadata": {},
   "outputs": [],
   "source": [
    "import base64"
   ]
  },
  {
   "cell_type": "code",
   "execution_count": 47,
   "id": "f2c42bd5",
   "metadata": {},
   "outputs": [],
   "source": [
    "def decodificador2000(string):\n",
    "    base64_message = string\n",
    "    base64_bytes = base64_message.encode('ascii')\n",
    "    message_bytes = base64.b64decode(base64_bytes)\n",
    "    message = message_bytes.decode('ascii')\n",
    "    return message\n"
   ]
  },
  {
   "cell_type": "code",
   "execution_count": 48,
   "id": "ce2dc0d3",
   "metadata": {},
   "outputs": [
    {
     "ename": "NameError",
     "evalue": "name 'contenido' is not defined",
     "output_type": "error",
     "traceback": [
      "\u001b[0;31m---------------------------------------------------------------------------\u001b[0m",
      "\u001b[0;31mNameError\u001b[0m                                 Traceback (most recent call last)",
      "\u001b[0;32m/tmp/ipykernel_6549/3145955468.py\u001b[0m in \u001b[0;36m<module>\u001b[0;34m\u001b[0m\n\u001b[0;32m----> 1\u001b[0;31m \u001b[0mcontenido_decode\u001b[0m \u001b[0;34m=\u001b[0m \u001b[0;34m[\u001b[0m\u001b[0mdecodificador2000\u001b[0m\u001b[0;34m(\u001b[0m\u001b[0mi\u001b[0m\u001b[0;34m)\u001b[0m \u001b[0;32mfor\u001b[0m \u001b[0mi\u001b[0m \u001b[0;32min\u001b[0m \u001b[0mcontenido\u001b[0m\u001b[0;34m]\u001b[0m\u001b[0;34m\u001b[0m\u001b[0;34m\u001b[0m\u001b[0m\n\u001b[0m\u001b[1;32m      2\u001b[0m \u001b[0mcontenido_decode\u001b[0m\u001b[0;34m\u001b[0m\u001b[0;34m\u001b[0m\u001b[0m\n",
      "\u001b[0;31mNameError\u001b[0m: name 'contenido' is not defined"
     ]
    }
   ],
   "source": [
    "contenido_decode = [decodificador2000(i) for i in contenido]\n",
    "contenido_decode"
   ]
  },
  {
   "cell_type": "code",
   "execution_count": 49,
   "id": "16fbe5e9",
   "metadata": {},
   "outputs": [
    {
     "ename": "NameError",
     "evalue": "name 'contenido_decode' is not defined",
     "output_type": "error",
     "traceback": [
      "\u001b[0;31m---------------------------------------------------------------------------\u001b[0m",
      "\u001b[0;31mNameError\u001b[0m                                 Traceback (most recent call last)",
      "\u001b[0;32m/tmp/ipykernel_6549/414995816.py\u001b[0m in \u001b[0;36m<module>\u001b[0;34m\u001b[0m\n\u001b[1;32m      1\u001b[0m \u001b[0mtexto\u001b[0m \u001b[0;34m=\u001b[0m \u001b[0;34m''\u001b[0m\u001b[0;34m\u001b[0m\u001b[0;34m\u001b[0m\u001b[0m\n\u001b[0;32m----> 2\u001b[0;31m \u001b[0;32mfor\u001b[0m \u001b[0mi\u001b[0m \u001b[0;32min\u001b[0m \u001b[0mrange\u001b[0m\u001b[0;34m(\u001b[0m\u001b[0mlen\u001b[0m\u001b[0;34m(\u001b[0m\u001b[0mcontenido_decode\u001b[0m\u001b[0;34m)\u001b[0m\u001b[0;34m)\u001b[0m\u001b[0;34m:\u001b[0m\u001b[0;34m\u001b[0m\u001b[0;34m\u001b[0m\u001b[0m\n\u001b[0m\u001b[1;32m      3\u001b[0m     \u001b[0mtexto\u001b[0m \u001b[0;34m+=\u001b[0m\u001b[0mcontenido_decode\u001b[0m\u001b[0;34m[\u001b[0m\u001b[0mi\u001b[0m\u001b[0;34m]\u001b[0m\u001b[0;34m[\u001b[0m\u001b[0;34m:\u001b[0m\u001b[0;34m-\u001b[0m\u001b[0;36m1\u001b[0m\u001b[0;34m]\u001b[0m \u001b[0;34m+\u001b[0m \u001b[0;34m' '\u001b[0m\u001b[0;34m\u001b[0m\u001b[0;34m\u001b[0m\u001b[0m\n\u001b[1;32m      4\u001b[0m \u001b[0;34m\u001b[0m\u001b[0m\n\u001b[1;32m      5\u001b[0m \u001b[0mtexto\u001b[0m\u001b[0;34m\u001b[0m\u001b[0;34m\u001b[0m\u001b[0m\n",
      "\u001b[0;31mNameError\u001b[0m: name 'contenido_decode' is not defined"
     ]
    }
   ],
   "source": [
    "texto = ''\n",
    "for i in range(len(contenido_decode)):\n",
    "    texto +=contenido_decode[i][:-1] + ' '\n",
    "    \n",
    "texto"
   ]
  },
  {
   "cell_type": "markdown",
   "id": "cbdb43c1",
   "metadata": {},
   "source": [
    "![apis_gif](https://media3.giphy.com/media/3oKIPwoeGErMmaI43S/200w.gif)"
   ]
  },
  {
   "cell_type": "code",
   "execution_count": null,
   "id": "74f0b54b",
   "metadata": {},
   "outputs": [],
   "source": []
  },
  {
   "cell_type": "code",
   "execution_count": null,
   "id": "a7250031",
   "metadata": {},
   "outputs": [],
   "source": []
  },
  {
   "cell_type": "code",
   "execution_count": null,
   "id": "43733caf",
   "metadata": {},
   "outputs": [],
   "source": []
  },
  {
   "cell_type": "code",
   "execution_count": null,
   "id": "9f1d26bf",
   "metadata": {},
   "outputs": [],
   "source": []
  },
  {
   "cell_type": "code",
   "execution_count": null,
   "id": "67c46322",
   "metadata": {},
   "outputs": [],
   "source": []
  },
  {
   "cell_type": "code",
   "execution_count": null,
   "id": "4e83cd86",
   "metadata": {},
   "outputs": [],
   "source": []
  },
  {
   "cell_type": "code",
   "execution_count": null,
   "id": "155aca42",
   "metadata": {},
   "outputs": [],
   "source": []
  },
  {
   "cell_type": "code",
   "execution_count": null,
   "id": "4c1668fa",
   "metadata": {},
   "outputs": [],
   "source": [
    "#contenido1 = [rasfunction(p) for p in contenido]"
   ]
  },
  {
   "cell_type": "code",
   "execution_count": null,
   "id": "862f0e80",
   "metadata": {},
   "outputs": [],
   "source": [
    "#GET /repos/:owner/:repo/contents/:path"
   ]
  },
  {
   "cell_type": "code",
   "execution_count": null,
   "id": "caeea23e",
   "metadata": {},
   "outputs": [],
   "source": [
    "#base64_message = 'SW4K\\n'\n",
    "#base64_bytes = base64_message.encode('ascii')\n",
    "#message_bytes = base64.b64decode(base64_bytes)\n",
    "#message = message_bytes.decode('ascii')\n",
    "#message"
   ]
  },
  {
   "cell_type": "code",
   "execution_count": null,
   "id": "e348e51d",
   "metadata": {},
   "outputs": [],
   "source": []
  },
  {
   "cell_type": "code",
   "execution_count": null,
   "id": "2028815d",
   "metadata": {},
   "outputs": [],
   "source": []
  },
  {
   "cell_type": "code",
   "execution_count": null,
   "id": "d1b128ed",
   "metadata": {},
   "outputs": [],
   "source": []
  }
 ],
 "metadata": {
  "kernelspec": {
   "display_name": "Python 3 (ipykernel)",
   "language": "python",
   "name": "python3"
  },
  "language_info": {
   "codemirror_mode": {
    "name": "ipython",
    "version": 3
   },
   "file_extension": ".py",
   "mimetype": "text/x-python",
   "name": "python",
   "nbconvert_exporter": "python",
   "pygments_lexer": "ipython3",
   "version": "3.9.7"
  },
  "toc": {
   "base_numbering": 1,
   "nav_menu": {},
   "number_sections": true,
   "sideBar": true,
   "skip_h1_title": true,
   "title_cell": "Table of Contents",
   "title_sidebar": "Contents",
   "toc_cell": false,
   "toc_position": {},
   "toc_section_display": true,
   "toc_window_display": true
  }
 },
 "nbformat": 4,
 "nbformat_minor": 5
}
